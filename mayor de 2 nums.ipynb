{
  "nbformat": 4,
  "nbformat_minor": 0,
  "metadata": {
    "colab": {
      "provenance": [],
      "authorship_tag": "ABX9TyNBOSIDEdrolBTOgx4PEpAO",
      "include_colab_link": true
    },
    "kernelspec": {
      "name": "python3",
      "display_name": "Python 3"
    },
    "language_info": {
      "name": "python"
    }
  },
  "cells": [
    {
      "cell_type": "markdown",
      "metadata": {
        "id": "view-in-github",
        "colab_type": "text"
      },
      "source": [
        "<a href=\"https://colab.research.google.com/github/EdwinTinajero/Fundamentos-De-Programacion/blob/main/mayor%20de%202%20nums.ipynb\" target=\"_parent\"><img src=\"https://colab.research.google.com/assets/colab-badge.svg\" alt=\"Open In Colab\"/></a>"
      ]
    },
    {
      "cell_type": "markdown",
      "source": [
        "**Edwin Efren Tinajero Sifuentes **"
      ],
      "metadata": {
        "id": "PWP0eXEwNQ4E"
      }
    },
    {
      "cell_type": "markdown",
      "source": [
        "**ITSLP Fundamentos de Programacion 03/10/2025**"
      ],
      "metadata": {
        "id": "vhA4WxhLN_Dy"
      }
    },
    {
      "cell_type": "markdown",
      "source": [
        "Codigo para saber cual es el mayor de dos numeros diferentes"
      ],
      "metadata": {
        "id": "yiRss2_sNcg7"
      }
    },
    {
      "cell_type": "code",
      "source": [
        "#INICIALIZAR VARIABLES\n",
        "num1=0;num2=0;M=0\n",
        "\n",
        "#GUARDAR VALORES EN VARIABLES\n",
        "num1 = int(input(\"Dame el primer numero: \"))\n",
        "num2 = int(input(\"Dame el segundo numero: \"))\n",
        "\n",
        "#CONDICIONAL PARA ENCONTRAR NUMERO MAYOR Y GUARDAR EN VARIABLE M\n",
        "\n",
        "if num1 > num2:\n",
        "  M = num1\n",
        "else:\n",
        "  M = num2\n",
        "print(\"El numero mayor es: \", M) #IMPRIMIR"
      ],
      "metadata": {
        "colab": {
          "base_uri": "https://localhost:8080/"
        },
        "id": "0iesI2V1SmJ8",
        "outputId": "4a71817e-2e20-4d27-b082-9d8aaa51db9a"
      },
      "execution_count": 42,
      "outputs": [
        {
          "output_type": "stream",
          "name": "stdout",
          "text": [
            "Dame el primer numero: 5\n",
            "Dame el segundo numero: 10\n",
            "El numero mayor es:  10\n"
          ]
        }
      ]
    }
  ]
}