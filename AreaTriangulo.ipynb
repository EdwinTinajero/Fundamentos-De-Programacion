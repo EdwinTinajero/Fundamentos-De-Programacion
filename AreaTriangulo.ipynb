{
  "nbformat": 4,
  "nbformat_minor": 0,
  "metadata": {
    "colab": {
      "provenance": [],
      "authorship_tag": "ABX9TyNOdSU/TaEb0MFGIJ7uluW4",
      "include_colab_link": true
    },
    "kernelspec": {
      "name": "python3",
      "display_name": "Python 3"
    },
    "language_info": {
      "name": "python"
    }
  },
  "cells": [
    {
      "cell_type": "markdown",
      "metadata": {
        "id": "view-in-github",
        "colab_type": "text"
      },
      "source": [
        "<a href=\"https://colab.research.google.com/github/EdwinTinajero/Fundamentos-De-Programacion/blob/main/AreaTriangulo.ipynb\" target=\"_parent\"><img src=\"https://colab.research.google.com/assets/colab-badge.svg\" alt=\"Open In Colab\"/></a>"
      ]
    },
    {
      "cell_type": "markdown",
      "source": [
        "**Edwin Efren Tinajero Sifuentes **"
      ],
      "metadata": {
        "id": "PWP0eXEwNQ4E"
      }
    },
    {
      "cell_type": "markdown",
      "source": [
        "**ITSLP Fundamentos de Programacion 03/10/2025**"
      ],
      "metadata": {
        "id": "vhA4WxhLN_Dy"
      }
    },
    {
      "cell_type": "markdown",
      "source": [
        "Codigo para calcular el area de un triangulo"
      ],
      "metadata": {
        "id": "yiRss2_sNcg7"
      }
    },
    {
      "cell_type": "code",
      "execution_count": null,
      "metadata": {
        "id": "1GGe_C8UXJk6"
      },
      "outputs": [],
      "source": [
        "b=0; h=0; A=0\n",
        "\n",
        "b = float(input(\"Dame la base del triangulo: \"))\n",
        "h = float(input(\"Dame la altura del triangulo: \"))\n",
        "\n",
        "A = (b*h)/2\n",
        "\n",
        "\n",
        "#ejemplo de imprimir un numero con dos decimales print(f\"texto: {Variable a imprimir:.2f}\")\n",
        "print(f\"El area del triangulo es: {A:.2f}\")"
      ]
    }
  ]
}