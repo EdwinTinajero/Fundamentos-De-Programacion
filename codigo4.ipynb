{
  "nbformat": 4,
  "nbformat_minor": 0,
  "metadata": {
    "colab": {
      "provenance": [],
      "authorship_tag": "ABX9TyOMedf1CKkSaUZXy95haA+x",
      "include_colab_link": true
    },
    "kernelspec": {
      "name": "python3",
      "display_name": "Python 3"
    },
    "language_info": {
      "name": "python"
    }
  },
  "cells": [
    {
      "cell_type": "markdown",
      "metadata": {
        "id": "view-in-github",
        "colab_type": "text"
      },
      "source": [
        "<a href=\"https://colab.research.google.com/github/EdwinTinajero/Fundamentos-De-Programacion/blob/main/codigo4.ipynb\" target=\"_parent\"><img src=\"https://colab.research.google.com/assets/colab-badge.svg\" alt=\"Open In Colab\"/></a>"
      ]
    },
    {
      "cell_type": "markdown",
      "source": [
        "Edwin Efren Tinajero Sifuentes"
      ],
      "metadata": {
        "id": "jTP7WzhFqCaj"
      }
    },
    {
      "cell_type": "markdown",
      "source": [
        "Fundamentos de Programacion 06/10/2025"
      ],
      "metadata": {
        "id": "8JUyjrD-qWzi"
      }
    },
    {
      "cell_type": "markdown",
      "source": [
        "Programa para saber si los numeros son iguales o uno es mayor mediante un if anidado"
      ],
      "metadata": {
        "id": "QZJmE_70q-nS"
      }
    },
    {
      "cell_type": "code",
      "source": [
        "#INICIALIZAR VARIABLES\n",
        "num1=0;num2=0;M=0\n",
        "\n",
        "#GUARDAR VALORES EN VARIABLES\n",
        "num1 = float(input(\"Dame el primer numero: \"))\n",
        "num2 = float(input(\"Dame el segundo numero: \"))\n",
        "\n",
        "#CONDICIONAL PARA ENCONTRAR NUMERO MAYOR Y GUARDAR EN VARIABLE M\n",
        "\n",
        "if num1 != num2:\n",
        "   if num1 > num2:\n",
        "    M = num1\n",
        "    print(f\"El numero mayor es: {M:.2f}\")\n",
        "   else:\n",
        "    M = num2\n",
        "    print(f\"El numero mayor es: {M:.2f}\")\n",
        "\n",
        "else:\n",
        "\n",
        "  print(\"Los numeros son iguales\") #IMPRIMIR"
      ],
      "metadata": {
        "colab": {
          "base_uri": "https://localhost:8080/"
        },
        "outputId": "57a37a20-b2f8-41fc-cc5e-5ed325c85aba",
        "id": "VzKxkwWpsi8N"
      },
      "execution_count": 23,
      "outputs": [
        {
          "output_type": "stream",
          "name": "stdout",
          "text": [
            "Dame el primer numero: 3.33\n",
            "Dame el segundo numero: 4.44\n",
            "El numero mayor es: 4.44\n"
          ]
        }
      ]
    },
    {
      "cell_type": "code",
      "source": [],
      "metadata": {
        "id": "0SHiPPa3uJhO"
      },
      "execution_count": null,
      "outputs": []
    }
  ]
}