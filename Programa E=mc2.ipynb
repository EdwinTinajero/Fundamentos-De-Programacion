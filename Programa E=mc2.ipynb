{
  "nbformat": 4,
  "nbformat_minor": 0,
  "metadata": {
    "colab": {
      "provenance": [],
      "authorship_tag": "ABX9TyP6E9UC9pPDP6SJrUw+6cE/",
      "include_colab_link": true
    },
    "kernelspec": {
      "name": "python3",
      "display_name": "Python 3"
    },
    "language_info": {
      "name": "python"
    }
  },
  "cells": [
    {
      "cell_type": "markdown",
      "metadata": {
        "id": "view-in-github",
        "colab_type": "text"
      },
      "source": [
        "<a href=\"https://colab.research.google.com/github/EdwinTinajero/Fundamentos-De-Programacion/blob/main/Programa%20E%3Dmc2.ipynb\" target=\"_parent\"><img src=\"https://colab.research.google.com/assets/colab-badge.svg\" alt=\"Open In Colab\"/></a>"
      ]
    },
    {
      "cell_type": "markdown",
      "source": [
        "Edwin TS Fundamentos de programaciòn itslp  E=M*C**2\n",
        "programa que calcula la equivalencia entre masa y energia"
      ],
      "metadata": {
        "id": "XrpWbxC0G7wD"
      }
    },
    {
      "cell_type": "code",
      "source": [
        "print(\"programa que calcula la equivalencia entre masa y energia\")\n",
        "m = float(input(\"ingrese la masa en kg: \"))\n",
        "c = float(input(\"ingrese la velocidad en m/s: \"))\n",
        "E = m*c**2\n",
        "print(f\"la energia es: {E:.2f}\")"
      ],
      "metadata": {
        "colab": {
          "base_uri": "https://localhost:8080/"
        },
        "id": "YMHCcRjoHVxo",
        "outputId": "550e279a-5bf7-4803-d760-8666bcb3962b"
      },
      "execution_count": 11,
      "outputs": [
        {
          "output_type": "stream",
          "name": "stdout",
          "text": [
            "programa que calcula la equivalencia entre masa y energia\n",
            "ingrese la masa en kg40\n",
            "ingrese la velocidad en m/s8.\n",
            "la energia es 2560.00\n"
          ]
        }
      ]
    },
    {
      "cell_type": "code",
      "execution_count": null,
      "metadata": {
        "id": "cdlaw2HWG4P7"
      },
      "outputs": [],
      "source": []
    }
  ]
}